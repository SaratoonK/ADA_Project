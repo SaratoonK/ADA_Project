{
 "cells": [
  {
   "cell_type": "code",
   "execution_count": 1,
   "metadata": {},
   "outputs": [],
   "source": [
    "import json\n",
    "# import ijson\n",
    "import pandas as pd\n",
    "import pythainlp"
   ]
  },
  {
   "cell_type": "code",
   "execution_count": 2,
   "metadata": {},
   "outputs": [
    {
     "name": "stdout",
     "output_type": "stream",
     "text": [
      "{'_id': {'$oid': '5b17632ab942d66a56a5db47'}, 'budget': [{'plan': '48000', 'used': '', 'pass': False, 'report': ''}], 'expected_results': '4.1 เกิดความร่วมมือระหว่างผู้ประกอบการขนส่งและพนักงานขับรถกับทางราชการ\\n4.2 อุบัติเหตุที่เกิดจากรถโดยสารไม่ประจำทางลดน้องลง\\n4.3 การประกอบการขนส่งมีความมั่นคงและมีคุณภาพในการให้บริการที่ดีขึ้น\\n4.4 ประชาชนมีความมั่นใจในการใช้บริการรถโดยสารไม่ประจำทางมากขึ้น \\n', 'masterplan_direct': {'masterplan': '0701', 'y1_direction': '07010005', 'y1_goal': '070104', 'y2_goal': '070001', 'id': '070107010005070104070001Y2010102Y201030401'}, 'name': 'โครงการพัฒนาศักยภาพผู้ประกอบการขนส่งไม่ประจำทางด้วยรถโดยสาร ปี 2563', 'objective': '     2.1 เพื่อติดตามผล รับฟังปัญหาและให้คำปรึกษา แนะนำเกี่ยวกับการประกอบการขนส่งด้วยรถโดยสารไม่ประจำทางแก่ผู้ประกอบการขนส่ง\\n     2.2 เพื่อให้ความรู้กับผู้ประกอบการขนส่งในเรื่องกฎ ระเบียบ ที่จะต้องปฏิบัติในการประกอบการขนส่งด้วยรถโดยสารไม่ประจำทาง\\n     2.3 เพื่อให้ความรู้ในเรื่องข้อควรปฏิบัติเพื่อความปลอดภัยในการประกอบการขนส่งด้วยรถโดยสารไม่ประจำทาง\\n     2.4 เพื่อหารือร่วมกันเกี่ยวกับแนวทางยกระดับมาตรฐานการให้บริการด้วยรถโดยสารไม่ประจำทางให้มีคุณภาพมากยิ่งขึ้น \\n', 'output': 'จัดอบรม สัมมนา หรือดูงาน เกี่ยวกับการพัฒนา และส่งเสริมคุณภาพ และมาตรฐานการประกอบการขนส่งด้วยรถโดยสารไม่ประจำทาง ', 'problem': '', 'project_gantt_chart': '{\"data\":[{\"id\":1587344849804,\"start_date\":\"01-10-2562 00:00\",\"text\":\"1. ประชุมหารือเพื่อหาหัวข้อ และรายละเอียดการสัมมนา\",\"duration\":1,\"end_date\":\"30-12-2562 00:00\",\"progress\":0,\"parent\":0},{\"id\":1587344849807,\"start_date\":\"01-01-2563 00:00\",\"text\":\"2. ประสานหน่วยงานที่เกี่ยวข้องและผู้ประกอบการขนส่ง\",\"duration\":1,\"end_date\":\"01-04-2563 00:00\",\"progress\":0,\"parent\":0},{\"id\":1587344849808,\"start_date\":\"01-04-2563 00:00\",\"text\":\"3. จัดสัมมนา\",\"duration\":1,\"end_date\":\"30-06-2563 00:00\",\"progress\":0,\"parent\":0},{\"id\":1587344849809,\"start_date\":\"01-07-2563 00:00\",\"text\":\"4.ประเมินผลความรู้ความเข้าใจของผู้เข้าร่วมสัมมนา\",\"duration\":1,\"end_date\":\"29-09-2563 00:00\",\"progress\":0,\"parent\":0}],\"links\":[]}', 'rationale': 'ปัจจุบันมีผู้นิยมใช้บริการรถโดยสารไม่ประจำทางในลักษณะต่างๆมากขึ้น ทำให้จำนวนรถโดยสารไม่ประจำทางเพิ่มมากขึ้นทุกปี ประกอบกับทางราชการยังไม่ได้กำกับดูแลประกอบการขนส่งประเภทดังกล่าวเท่าที่ควร ทำให้อุบัติเหตุรุนแรงเกิดขึ้นกับรถโดยสารไม่ประจำทางหลายครั้ง ในรอบหนึ่งปีโดยเฉพาะรถทัศนาจรก่อให้เกิดความสูญเสียต่อชีวิตและทรัพย์สินของนักท่องเที่ยวและผู้ใช้บริการปีละจำนวนมาก ทั้งยังเสียภาพพจน์ของวงการท่องเที่ยวของประเทศอีกด้วย ดังนั้น เพื่อกำกับดูแลและส่งเสริมให้การประกอบการขนส่งด้วยรถโดยสารไม่ประจำทาง มีมาตรฐานทั้งในด้านความปลอดภัยและการให้บริการ สมควรให้มีการพัฒนาศักยภาพผู้ประกอบการขนส่งรถโดยสารไม่ประจำทาง เพื่อถ่ายทอดกฎ ระเบียบ และความรู้เกี่ยวกับปัจจัยเรื่องต่างๆที่ก่อให้เกิดอุบัติเหตุ รวมทั้งแลดกเปลี่ยนความรู้ประสบการณ์ เพื่อยกระดับการพัฒนาการประกอบการขนส่ง', 'result': '', 'target_group': 'ผู้ประกอบการขนส่งรถโดยสารไม่ประจำทาง พนักงานขับรถ และประชาชนผู้ใช้บริการ'}\n"
     ]
    }
   ],
   "source": [
    "# Python program to read\n",
    "# json file\n",
    "\n",
    "\n",
    "import json\n",
    "\n",
    "# Opening JSON file\n",
    "f = open(\"D:\\Research+Internship\\Test_masterplan.json\",encoding=\"utf-8\")\n",
    "\n",
    "# returns JSON object as\n",
    "# a dictionary\n",
    "data = json.load(f)\n",
    "\n",
    "# Iterating through the json\n",
    "# list\n",
    "print((data[0]))\n",
    "\n",
    "# Closing file\n",
    "f.close()\n"
   ]
  },
  {
   "cell_type": "code",
   "execution_count": 3,
   "metadata": {},
   "outputs": [],
   "source": [
    "df = pd.DataFrame(data)"
   ]
  },
  {
   "cell_type": "code",
   "execution_count": 4,
   "metadata": {},
   "outputs": [
    {
     "data": {
      "text/html": [
       "<div>\n",
       "<style scoped>\n",
       "    .dataframe tbody tr th:only-of-type {\n",
       "        vertical-align: middle;\n",
       "    }\n",
       "\n",
       "    .dataframe tbody tr th {\n",
       "        vertical-align: top;\n",
       "    }\n",
       "\n",
       "    .dataframe thead th {\n",
       "        text-align: right;\n",
       "    }\n",
       "</style>\n",
       "<table border=\"1\" class=\"dataframe\">\n",
       "  <thead>\n",
       "    <tr style=\"text-align: right;\">\n",
       "      <th></th>\n",
       "      <th>_id</th>\n",
       "      <th>budget</th>\n",
       "      <th>expected_results</th>\n",
       "      <th>masterplan_direct</th>\n",
       "      <th>name</th>\n",
       "      <th>objective</th>\n",
       "      <th>output</th>\n",
       "      <th>problem</th>\n",
       "      <th>project_gantt_chart</th>\n",
       "      <th>rationale</th>\n",
       "      <th>result</th>\n",
       "      <th>target_group</th>\n",
       "    </tr>\n",
       "  </thead>\n",
       "  <tbody>\n",
       "    <tr>\n",
       "      <th>5</th>\n",
       "      <td>{'$oid': '5b179ad3234e9c6a4b8c210c'}</td>\n",
       "      <td>[{'plan': '0.00', 'used': '', 'pass': False, '...</td>\n",
       "      <td>หลักสูตรวิศวกรรมวัสดุและโลหการได้รับการปรับปรุ...</td>\n",
       "      <td>{'masterplan': '1201', 'y1_direction': '120100...</td>\n",
       "      <td>โครงการพัฒนาหลักสูตรสาขาวิศวกรรมวัสดุเพื่อก้าว...</td>\n",
       "      <td>1. เพือพัฒนาหลักสูตรวิศวกรรมวัสดุ ให้เนื้อหารา...</td>\n",
       "      <td>14.  ตัวชี้วัดเป้าหมายผลผลิต  \\n14.1 เชิงปริมา...</td>\n",
       "      <td></td>\n",
       "      <td>{\"data\":[{\"id\":1528271891525,\"start_date\":\"01-...</td>\n",
       "      <td>เนื่องจากภาควิชาวิศวกรรมวัสดุและโลหการได้เปิดก...</td>\n",
       "      <td></td>\n",
       "      <td>-  อาจารย์\\t\\t\\t\\tจำนวน..............16..........</td>\n",
       "    </tr>\n",
       "    <tr>\n",
       "      <th>6</th>\n",
       "      <td>{'$oid': '5b17aa410d16bc6a5048b2d7'}</td>\n",
       "      <td>[{'plan': '77,901,400.00', 'used': '354097500'...</td>\n",
       "      <td>บัณฑิตผู้สำเร็จการศึกษามีคุณลักษณะที่พึงประสงค...</td>\n",
       "      <td>{'masterplan': '1201', 'y1_direction': '120100...</td>\n",
       "      <td>โครงการผลิตบัณฑิตด้านสังคมเพื่อรองรับความต้องก...</td>\n",
       "      <td>เพื่อผลิตบัณฑิตด้านสังคมศาสตร์ให้มีคุณภาพ มีคุ...</td>\n",
       "      <td>เป้าหมายเชิงปริมาณ :\\n1) จำนวนนักศึกษาที่เข้าใ...</td>\n",
       "      <td>อัตราค่าใช้จ่ายในการดำเนินการจริงสูงกว่าอัตราค...</td>\n",
       "      <td>{\"data\":[{\"id\":1528275838560,\"start_date\":\"01-...</td>\n",
       "      <td>\\tการศึกษา เป็นปัจจัยสำคัญในการพัฒนาประเทศ ดัง...</td>\n",
       "      <td></td>\n",
       "      <td>นักศึกษา ผู้ปกครอง ประชาชนทั่วไป ตลาดแรงงาน สถ...</td>\n",
       "    </tr>\n",
       "    <tr>\n",
       "      <th>7</th>\n",
       "      <td>{'$oid': '5b17bbf80804dc6a51d61986'}</td>\n",
       "      <td>[{'plan': '133,520.00', 'used': '133,520.00', ...</td>\n",
       "      <td>1. ผู้เข้าร่วมโครงการได้รับความรู้และประสบการณ...</td>\n",
       "      <td>{'masterplan': '1101', 'y1_direction': '110100...</td>\n",
       "      <td>โครงการแลกเปลี่ยนเรียนรู้งานภูมิทัศน์</td>\n",
       "      <td>เพื่อให้ผู้เข้าร่วมโครงการได้แลกเปลี่ยนเรียนรู...</td>\n",
       "      <td></td>\n",
       "      <td>ไม่มี</td>\n",
       "      <td>{\"data\":[{\"id\":1528278636897,\"start_date\":\"01-...</td>\n",
       "      <td>ด้วยฝ่ายภูมิทัศน์ กองอาคารสถานที่มีภาระหน้าที่...</td>\n",
       "      <td>1.จัดโครงการแล้วเสร็จ วันที่ 7 - 8 พฤษภาคม 256...</td>\n",
       "      <td>อาจารย์ จำนวน 2 คน\\nเจ้าหน้าที่ จำนวน 69 คน\\n</td>\n",
       "    </tr>\n",
       "    <tr>\n",
       "      <th>8</th>\n",
       "      <td>{'$oid': '5b17cb7fb942d66a56a5db6c'}</td>\n",
       "      <td>[{'plan': '48,000.00', 'used': '48,000.00', 'p...</td>\n",
       "      <td>1.ผู้เข้ารับการอบรมได้รับความรู้ความเข้าใจเกี่...</td>\n",
       "      <td>{'masterplan': '1201', 'y1_direction': '120100...</td>\n",
       "      <td>โครงการพัฒนาศักยภาพบุคลากรด้านช่างบริการยานยนต์</td>\n",
       "      <td>1.เพื่อเป็นการเพิ่มพูนความรู้และนำความรู้ที่ได...</td>\n",
       "      <td></td>\n",
       "      <td>ไม่มี</td>\n",
       "      <td>{\"data\":[{\"id\":1528283145777,\"start_date\":\"01-...</td>\n",
       "      <td>มหาวิทยาลัยเทคโนโลยีราชมงคลธัญบุรี เปิดสอนการเ...</td>\n",
       "      <td>1.จัดโครงการแล้วเสร็จ รุ่นที่ 1 วันที่ 18-19 พ...</td>\n",
       "      <td>อาจารย์ จำนวน 1คน\\nเจ้าหน้าที่ จำนวน 39 คน\\n</td>\n",
       "    </tr>\n",
       "    <tr>\n",
       "      <th>9</th>\n",
       "      <td>{'$oid': '5b17d471b942d66a56a5db6e'}</td>\n",
       "      <td>[{'plan': '0.00', 'used': '699,575.30', 'pass'...</td>\n",
       "      <td>1. บุคลากรของกองอาคารสถานที่ มีความเข้าใจเกี่ย...</td>\n",
       "      <td>{'masterplan': '1101', 'y1_direction': '110100...</td>\n",
       "      <td>โครงการพัฒนาศักยภาพบุคลากรกองอาคารสถานที่</td>\n",
       "      <td>1. เพื่อเป็นการเพิ่มพูนความรู้และนำความรู้ที่ไ...</td>\n",
       "      <td></td>\n",
       "      <td>ไม่มี</td>\n",
       "      <td>{\"data\":[{\"id\":1528286254840,\"start_date\":\"01-...</td>\n",
       "      <td>กองอาคารสถานที่ ประกอบด้วย ข้าราชการ ลูกจ้างปร...</td>\n",
       "      <td>1.โครงการจัดแล้วเสร็จ วันที่ 13 - 15 มีนาคม 25...</td>\n",
       "      <td>ผู้บริหาร จำนวน 1 คน\\t\\nอาจารย์ จำนวน 2 คน\\nเจ...</td>\n",
       "    </tr>\n",
       "  </tbody>\n",
       "</table>\n",
       "</div>"
      ],
      "text/plain": [
       "                                    _id  \\\n",
       "5  {'$oid': '5b179ad3234e9c6a4b8c210c'}   \n",
       "6  {'$oid': '5b17aa410d16bc6a5048b2d7'}   \n",
       "7  {'$oid': '5b17bbf80804dc6a51d61986'}   \n",
       "8  {'$oid': '5b17cb7fb942d66a56a5db6c'}   \n",
       "9  {'$oid': '5b17d471b942d66a56a5db6e'}   \n",
       "\n",
       "                                              budget  \\\n",
       "5  [{'plan': '0.00', 'used': '', 'pass': False, '...   \n",
       "6  [{'plan': '77,901,400.00', 'used': '354097500'...   \n",
       "7  [{'plan': '133,520.00', 'used': '133,520.00', ...   \n",
       "8  [{'plan': '48,000.00', 'used': '48,000.00', 'p...   \n",
       "9  [{'plan': '0.00', 'used': '699,575.30', 'pass'...   \n",
       "\n",
       "                                    expected_results  \\\n",
       "5  หลักสูตรวิศวกรรมวัสดุและโลหการได้รับการปรับปรุ...   \n",
       "6  บัณฑิตผู้สำเร็จการศึกษามีคุณลักษณะที่พึงประสงค...   \n",
       "7  1. ผู้เข้าร่วมโครงการได้รับความรู้และประสบการณ...   \n",
       "8  1.ผู้เข้ารับการอบรมได้รับความรู้ความเข้าใจเกี่...   \n",
       "9  1. บุคลากรของกองอาคารสถานที่ มีความเข้าใจเกี่ย...   \n",
       "\n",
       "                                   masterplan_direct  \\\n",
       "5  {'masterplan': '1201', 'y1_direction': '120100...   \n",
       "6  {'masterplan': '1201', 'y1_direction': '120100...   \n",
       "7  {'masterplan': '1101', 'y1_direction': '110100...   \n",
       "8  {'masterplan': '1201', 'y1_direction': '120100...   \n",
       "9  {'masterplan': '1101', 'y1_direction': '110100...   \n",
       "\n",
       "                                                name  \\\n",
       "5  โครงการพัฒนาหลักสูตรสาขาวิศวกรรมวัสดุเพื่อก้าว...   \n",
       "6  โครงการผลิตบัณฑิตด้านสังคมเพื่อรองรับความต้องก...   \n",
       "7              โครงการแลกเปลี่ยนเรียนรู้งานภูมิทัศน์   \n",
       "8    โครงการพัฒนาศักยภาพบุคลากรด้านช่างบริการยานยนต์   \n",
       "9          โครงการพัฒนาศักยภาพบุคลากรกองอาคารสถานที่   \n",
       "\n",
       "                                           objective  \\\n",
       "5  1. เพือพัฒนาหลักสูตรวิศวกรรมวัสดุ ให้เนื้อหารา...   \n",
       "6  เพื่อผลิตบัณฑิตด้านสังคมศาสตร์ให้มีคุณภาพ มีคุ...   \n",
       "7  เพื่อให้ผู้เข้าร่วมโครงการได้แลกเปลี่ยนเรียนรู...   \n",
       "8  1.เพื่อเป็นการเพิ่มพูนความรู้และนำความรู้ที่ได...   \n",
       "9  1. เพื่อเป็นการเพิ่มพูนความรู้และนำความรู้ที่ไ...   \n",
       "\n",
       "                                              output  \\\n",
       "5  14.  ตัวชี้วัดเป้าหมายผลผลิต  \\n14.1 เชิงปริมา...   \n",
       "6  เป้าหมายเชิงปริมาณ :\\n1) จำนวนนักศึกษาที่เข้าใ...   \n",
       "7                                                      \n",
       "8                                                      \n",
       "9                                                      \n",
       "\n",
       "                                             problem  \\\n",
       "5                                                      \n",
       "6  อัตราค่าใช้จ่ายในการดำเนินการจริงสูงกว่าอัตราค...   \n",
       "7                                              ไม่มี   \n",
       "8                                              ไม่มี   \n",
       "9                                              ไม่มี   \n",
       "\n",
       "                                 project_gantt_chart  \\\n",
       "5  {\"data\":[{\"id\":1528271891525,\"start_date\":\"01-...   \n",
       "6  {\"data\":[{\"id\":1528275838560,\"start_date\":\"01-...   \n",
       "7  {\"data\":[{\"id\":1528278636897,\"start_date\":\"01-...   \n",
       "8  {\"data\":[{\"id\":1528283145777,\"start_date\":\"01-...   \n",
       "9  {\"data\":[{\"id\":1528286254840,\"start_date\":\"01-...   \n",
       "\n",
       "                                           rationale  \\\n",
       "5  เนื่องจากภาควิชาวิศวกรรมวัสดุและโลหการได้เปิดก...   \n",
       "6  \\tการศึกษา เป็นปัจจัยสำคัญในการพัฒนาประเทศ ดัง...   \n",
       "7  ด้วยฝ่ายภูมิทัศน์ กองอาคารสถานที่มีภาระหน้าที่...   \n",
       "8  มหาวิทยาลัยเทคโนโลยีราชมงคลธัญบุรี เปิดสอนการเ...   \n",
       "9  กองอาคารสถานที่ ประกอบด้วย ข้าราชการ ลูกจ้างปร...   \n",
       "\n",
       "                                              result  \\\n",
       "5                                                      \n",
       "6                                                      \n",
       "7  1.จัดโครงการแล้วเสร็จ วันที่ 7 - 8 พฤษภาคม 256...   \n",
       "8  1.จัดโครงการแล้วเสร็จ รุ่นที่ 1 วันที่ 18-19 พ...   \n",
       "9  1.โครงการจัดแล้วเสร็จ วันที่ 13 - 15 มีนาคม 25...   \n",
       "\n",
       "                                        target_group  \n",
       "5  -  อาจารย์\\t\\t\\t\\tจำนวน..............16..........  \n",
       "6  นักศึกษา ผู้ปกครอง ประชาชนทั่วไป ตลาดแรงงาน สถ...  \n",
       "7      อาจารย์ จำนวน 2 คน\\nเจ้าหน้าที่ จำนวน 69 คน\\n  \n",
       "8       อาจารย์ จำนวน 1คน\\nเจ้าหน้าที่ จำนวน 39 คน\\n  \n",
       "9  ผู้บริหาร จำนวน 1 คน\\t\\nอาจารย์ จำนวน 2 คน\\nเจ...  "
      ]
     },
     "execution_count": 4,
     "metadata": {},
     "output_type": "execute_result"
    }
   ],
   "source": [
    "df.tail()"
   ]
  },
  {
   "cell_type": "code",
   "execution_count": 5,
   "metadata": {},
   "outputs": [
    {
     "name": "stdout",
     "output_type": "stream",
     "text": [
      "Index(['_id', 'budget', 'expected_results', 'masterplan_direct', 'name',\n",
      "       'objective', 'output', 'problem', 'project_gantt_chart', 'rationale',\n",
      "       'result', 'target_group'],\n",
      "      dtype='object')\n"
     ]
    }
   ],
   "source": [
    "subj = df[\"name\"]\n",
    "obj = df.drop(columns=[\"name\"])\n",
    "# print(df.keys())\n",
    "relation = df.keys()\n",
    "print(relation)\n",
    "# not use output "
   ]
  },
  {
   "cell_type": "code",
   "execution_count": 6,
   "metadata": {},
   "outputs": [
    {
     "name": "stdout",
     "output_type": "stream",
     "text": [
      "0    โครงการพัฒนาศักยภาพผู้ประกอบการขนส่งไม่ประจำทา...\n",
      "1    โครงการผลิตบัณฑิตด้านวิทยาศาสตร์และเทคโนโลยีเพ...\n",
      "2    โครงการพัฒนาศักยภาพผู้ประกอบการรถรับจ้าง (รถแท...\n",
      "3    โครงการการปรับปรุงหลักสูตรวิศวกรรมอุตสาหการเพื...\n",
      "4                      พัฒนาสมรรถนะบุคลากรด้านงานวิจัย\n",
      "5    โครงการพัฒนาหลักสูตรสาขาวิศวกรรมวัสดุเพื่อก้าว...\n",
      "6    โครงการผลิตบัณฑิตด้านสังคมเพื่อรองรับความต้องก...\n",
      "7                โครงการแลกเปลี่ยนเรียนรู้งานภูมิทัศน์\n",
      "8      โครงการพัฒนาศักยภาพบุคลากรด้านช่างบริการยานยนต์\n",
      "9            โครงการพัฒนาศักยภาพบุคลากรกองอาคารสถานที่\n",
      "Name: name, dtype: object\n"
     ]
    }
   ],
   "source": [
    "print(subj)"
   ]
  },
  {
   "cell_type": "code",
   "execution_count": 7,
   "metadata": {},
   "outputs": [
    {
     "name": "stdout",
     "output_type": "stream",
     "text": [
      "070104\n"
     ]
    }
   ],
   "source": [
    "print(obj[\"masterplan_direct\"].iloc[0][\"y1_goal\"])"
   ]
  },
  {
   "cell_type": "code",
   "execution_count": 8,
   "metadata": {},
   "outputs": [
    {
     "name": "stdout",
     "output_type": "stream",
     "text": [
      "<class 'str'>\n",
      "1. ประชุมหารือเพื่อหาหัวข้อ และรายละเอียดการสัมมนา\n"
     ]
    }
   ],
   "source": [
    "# print(obj['project_gantt_chart'].iloc[0])\n",
    "t = obj['project_gantt_chart'].iloc[0]\n",
    "print(type(t))\n",
    "res = eval(t)\n",
    "print(res[\"data\"][0][\"text\"])\n",
    "# print(res.keys())"
   ]
  },
  {
   "cell_type": "code",
   "execution_count": 9,
   "metadata": {},
   "outputs": [
    {
     "name": "stdout",
     "output_type": "stream",
     "text": [
      "1. เพื่อเป็นการเพิ่มพูนความรู้และนำความรู้ที่ได้รับไปพัฒนางานที่รับผิดชอบให้ดียิ่งขึ้น\n",
      "2. เพื่อให้บุคลากรมีการแลกเปลี่ยนความรู้ซึ่งกันและกัน\n"
     ]
    }
   ],
   "source": [
    "#0,1,2,5,7\n",
    "print(obj[\"objective\"].iloc[9])\n",
    "a = obj[\"problem\"].iloc[1]"
   ]
  },
  {
   "cell_type": "code",
   "execution_count": 10,
   "metadata": {},
   "outputs": [
    {
     "name": "stdout",
     "output_type": "stream",
     "text": [
      "index: 0\n",
      "4.1 เกิดความร่วมมือระหว่างผู้ประกอบการขนส่งและพนักงานขับรถกับทางราชการ\n",
      "4.2 อุบัติเหตุที่เกิดจากรถโดยสารไม่ประจำทางลดน้องลง\n",
      "4.3 การประกอบการขนส่งมีความมั่นคงและมีคุณภาพในการให้บริการที่ดีขึ้น\n",
      "4.4 ประชาชนมีความมั่นใจในการใช้บริการรถโดยสารไม่ประจำทางมากขึ้น \n",
      "\n",
      "index: 1\n",
      "บัณฑิตผู้สำเร็จการศึกษามีคุณลักษณะที่พึงประสงค์ มีความรู้ความสามารถและมีทักษะที่สนองต่อโลกอนาคตสอดคล้องกับความต้องการของตลาดแรงงาน สถานประกอบการ และประเทศชาติ รวมทั้งเป็นทรัพยากรมนุษย์ที่มีคุณภาพในการขับเคลื่อนเศรษฐกิจของประเทศผ่านนวัตกรรม ความคิดสร้างสรรค์ และเทคโนโลยี ส่งผลต่อการเพิ่มขีดความสามารถในการแข่งขันของประเทศตามนโยบาย Thailand 4.0 ตลอดจนมีความสำเร็จในการทำงานและการดำรงชีวิต\n",
      "index: 2\n",
      "4.1 การให้บริการของรถยนต์รับจ้าง (รถแท็กซี่) มีคุณภาพมากขึ้น\n",
      "4.2 ประชาชนพึงพอใจในการให้บริการของรถยนต์รับจ้าง (รถแท็กซี่) มากขึ้น \n",
      "\n",
      "index: 3\n",
      "\n",
      "index: 4\n",
      " 1  เพิ่มพูนทักษะในการเขียนข้อเสนอโครงการวิจัยของบุคลากรมหาวิทยาลัยเทคโนโลยีราชมงคลกรุงเทพ\n",
      " 2  ได้พัฒนาสมรรถนะด้านงานวิจัยของบุคลากร มหาวิทยาลัยเทคโนโลยีราชมงคลกรุงเทพ\n",
      " 3  บุคลากรสามารถเผยแพร่ผลงานวิจัยเพื่อตีพิมพ์ในวารสารระดับชาติ/นานาชาติ\n",
      "\n",
      "index: 5\n",
      "หลักสูตรวิศวกรรมวัสดุและโลหการได้รับการปรับปรุงให้ทันสมัยและตรงตามความต้องการของสถานประกอบการและสอดคล้องกับอัตลักษณ์บัณฑิตของคณะวิศวกรรมศาสตร์ และ ม.เทคโนโลยีราชมงคลธัญบุรี คือ บัณฑิตนักปฏิบัติมืออาชีพ\n",
      "index: 6\n",
      "บัณฑิตผู้สำเร็จการศึกษามีคุณลักษณะที่พึงประสงค์ มีความรู้ความสามารถและมีทักษะที่สนองต่อโลกอนาคตสอดคล้องกับความต้องการของตลาดแรงงาน สถานประกอบการ และประเทศชาติ รวมทั้งเป็นทรัพยากรมนุษย์ที่มีคุณภาพในการขับเคลื่อนเศรษฐกิจของประเทศผ่านนวัตกรรม ความคิดสร้างสรรค์ และเทคโนโลยี ส่งผลต่อการเพิ่มขีดความสามารถในการแข่งขันของประเทศตามนโยบาย Thailand 4.0 ตลอดจนมีความสำเร็จในการทำงานและการดำรงชีวิต\n",
      "index: 7\n",
      "1. ผู้เข้าร่วมโครงการได้รับความรู้และประสบการณ์การทำงาน\n",
      "2. ผู้เข้าร่วมโครงการได้พัฒนาความรู้และพัฒนางานที่ปฏิบัติให้มีประสิทธิภาพมากขึ้น\n",
      "\n",
      "index: 8\n",
      "1.ผู้เข้ารับการอบรมได้รับความรู้ความเข้าใจเกี่ยวกับการดูแลรักษา และซ่อมบำรุงรถยนต์\n",
      "2.สามารถนำความรู้ที่ได้รับไปใช้ในงานที่รับผิดชอบ\n",
      "3.ผู้รับบริการรถยนต์มีความปลอดภัยในการใช้บริการรถยนต์\n",
      "4.รถยนต์มีอายุการใช้งานนานขึ้น และค่าใช้จ่ายในการดูแลรักษาซ่อมบำรุงรถยนต์ลดน้อยลง\n",
      "\n",
      "index: 9\n",
      "1. บุคลากรของกองอาคารสถานที่ มีความเข้าใจเกี่ยวกับแผนยุทธศาสตร์ทั้งของมหาวิทยาลัยและของกองฯ ที่เพิ่มมากขึ้น\n",
      "2. บุคลากร มีการแลกเปลี่ยนเรียนรู้ ซึ่งน่าจะเป็นประโยชน์ต่อการปฏิบัติงาน\n",
      "\n"
     ]
    }
   ],
   "source": [
    "for i in range(10):\n",
    "    print(\"index:\", i)\n",
    "    print(obj[\"expected_results\"].iloc[i])"
   ]
  },
  {
   "cell_type": "code",
   "execution_count": 11,
   "metadata": {},
   "outputs": [
    {
     "ename": "SyntaxError",
     "evalue": "'break' outside loop (Temp/ipykernel_27528/668683560.py, line 1)",
     "output_type": "error",
     "traceback": [
      "\u001b[1;36m  File \u001b[1;32m\"C:\\Users\\Computer\\AppData\\Local\\Temp/ipykernel_27528/668683560.py\"\u001b[1;36m, line \u001b[1;32m1\u001b[0m\n\u001b[1;33m    break\u001b[0m\n\u001b[1;37m    ^\u001b[0m\n\u001b[1;31mSyntaxError\u001b[0m\u001b[1;31m:\u001b[0m 'break' outside loop\n"
     ]
    }
   ],
   "source": [
    "break"
   ]
  },
  {
   "attachments": {},
   "cell_type": "markdown",
   "metadata": {},
   "source": [
    "# Start here #"
   ]
  },
  {
   "cell_type": "code",
   "execution_count": 19,
   "metadata": {},
   "outputs": [
    {
     "name": "stdout",
     "output_type": "stream",
     "text": [
      "<class 'str'>\n",
      "4\n"
     ]
    }
   ],
   "source": [
    "print(type(obj[\"expected_results\"][0][0]))\n",
    "a = \"b\"\n",
    "b = \"4\"\n",
    "print(int(b))"
   ]
  },
  {
   "cell_type": "code",
   "execution_count": 26,
   "metadata": {},
   "outputs": [
    {
     "name": "stdout",
     "output_type": "stream",
     "text": [
      "1 บัณฑิตผู้สำเร็จการศึกษามีคุณลักษณะที่พึงประสงค์ มีความรู้ความสามารถและมีทักษะที่สนองต่อโลกอนาคตสอดคล้องกับความต้องการของตลาดแรงงาน สถานประกอบการ และประเทศชาติ รวมทั้งเป็นทรัพยากรมนุษย์ที่มีคุณภาพในการขับเคลื่อนเศรษฐกิจของประเทศผ่านนวัตกรรม ความคิดสร้างสรรค์ และเทคโนโลยี ส่งผลต่อการเพิ่มขีดความสามารถในการแข่งขันของประเทศตามนโยบาย Thailand 4.0 ตลอดจนมีความสำเร็จในการทำงานและการดำรงชีวิต\n",
      "3 \n",
      "5 หลักสูตรวิศวกรรมวัสดุและโลหการได้รับการปรับปรุงให้ทันสมัยและตรงตามความต้องการของสถานประกอบการและสอดคล้องกับอัตลักษณ์บัณฑิตของคณะวิศวกรรมศาสตร์ และ ม.เทคโนโลยีราชมงคลธัญบุรี คือ บัณฑิตนักปฏิบัติมืออาชีพ\n",
      "6 บัณฑิตผู้สำเร็จการศึกษามีคุณลักษณะที่พึงประสงค์ มีความรู้ความสามารถและมีทักษะที่สนองต่อโลกอนาคตสอดคล้องกับความต้องการของตลาดแรงงาน สถานประกอบการ และประเทศชาติ รวมทั้งเป็นทรัพยากรมนุษย์ที่มีคุณภาพในการขับเคลื่อนเศรษฐกิจของประเทศผ่านนวัตกรรม ความคิดสร้างสรรค์ และเทคโนโลยี ส่งผลต่อการเพิ่มขีดความสามารถในการแข่งขันของประเทศตามนโยบาย Thailand 4.0 ตลอดจนมีความสำเร็จในการทำงานและการดำรงชีวิต\n"
     ]
    }
   ],
   "source": [
    "from pythainlp.summarize import summarize\n",
    "for i in range(10):\n",
    "    if \"\\n\" not in obj[\"expected_results\"][i]:\n",
    "        #summarize\n",
    "        sent = obj[\"expected_results\"][i]\n",
    "        answer = summarize(text,engine= \"mt5-cpe-kmutt-thai-sentence-sum\")\n",
    "        print(i,sent)"
   ]
  },
  {
   "cell_type": "code",
   "execution_count": null,
   "metadata": {},
   "outputs": [],
   "source": [
    "from pythainlp.summarize import summarize\n",
    "# text = a\n",
    "text = '''\n",
    "        ทำเนียบท่าช้าง หรือ วังถนนพระอาทิตย์\n",
    "        ตั้งอยู่บนถนนพระอาทิตย์ เขตพระนคร กรุงเทพมหานคร\n",
    "        เดิมเป็นบ้านของเจ้าพระยามหาโยธา (ทอเรียะ คชเสนี)\n",
    "        บุตรเจ้าพระยามหาโยธานราธิบดีศรีพิชัยณรงค์ (พญาเจ่ง)\n",
    "        ต้นสกุลคชเสนี เชื้อสายมอญ เจ้าพระยามหาโยธา (ทอเรีย)\n",
    "        เป็นปู่ของเจ้าจอมมารดากลิ่นในพระบาทสมเด็จพระจอมเกล้าเจ้าอยู่หัว\n",
    "        และเป็นมรดกตกทอดมาถึง พระเจ้าบรมวงศ์เธอ กรมพระนเรศรวรฤทธิ์\n",
    "        (พระองค์เจ้ากฤดาภินิหาร)\n",
    "        ต่อมาในรัชสมัยพระบาทสมเด็จพระจุลจอมเกล้าเจ้าอยู่หัวโปรดเกล้าฯ\n",
    "        ให้สร้างตำหนัก 2 ชั้น\n",
    "        เป็นที่ประทับของพระเจ้าบรมวงศ์เธอ\n",
    "        กรมพระนเรศวรฤทิธิ์และเจ้าจอมมารดา\n",
    "        ต่อมาเรียกอาคารหลักนี้ว่า ตำหนักเดิม\n",
    "    '''\n",
    "# answer = summarize(text,engine= \"mt5-cpe-kmutt-thai-sentence-sum\")\n",
    "answer = summarize(text,n=3)"
   ]
  },
  {
   "cell_type": "code",
   "execution_count": null,
   "metadata": {},
   "outputs": [
    {
     "name": "stdout",
     "output_type": "stream",
     "text": [
      "['บุตรเจ้าพระยามหาโยธานราธิบดีศรีพิชัยณรงค์', 'เดิมเป็นบ้านของเจ้าพระยามหาโยธา', 'เจ้าพระยามหาโยธา']\n"
     ]
    }
   ],
   "source": [
    "print(answer)"
   ]
  },
  {
   "cell_type": "code",
   "execution_count": null,
   "metadata": {},
   "outputs": [
    {
     "ename": "SyntaxError",
     "evalue": "'break' outside loop (Temp/ipykernel_33344/668683560.py, line 1)",
     "output_type": "error",
     "traceback": [
      "\u001b[1;36m  File \u001b[1;32m\"C:\\Users\\Computer\\AppData\\Local\\Temp/ipykernel_33344/668683560.py\"\u001b[1;36m, line \u001b[1;32m1\u001b[0m\n\u001b[1;33m    break\u001b[0m\n\u001b[1;37m    ^\u001b[0m\n\u001b[1;31mSyntaxError\u001b[0m\u001b[1;31m:\u001b[0m 'break' outside loop\n"
     ]
    }
   ],
   "source": [
    "break"
   ]
  },
  {
   "cell_type": "code",
   "execution_count": 20,
   "metadata": {},
   "outputs": [
    {
     "name": "stderr",
     "output_type": "stream",
     "text": [
      "c:\\Users\\Computer\\AppData\\Local\\Programs\\Python\\Python38\\lib\\site-packages\\pythainlp\\tag\\perceptron.py:41: UserWarning: \n",
      "    LST20 corpus are free for research and open source only.\n",
      "\n",
      "    If you want to use in Commercial use, please contract NECTEC.\n",
      "\n",
      "    https://www.facebook.com/dancearmy/posts/10157641945708284\n",
      "    \n",
      "  warnings.warn(\"\"\"\n"
     ]
    },
    {
     "data": {
      "text/plain": [
       "[('4.1', 'NU', 'O'),\n",
       " (' ', 'PU', 'O'),\n",
       " ('การ', 'FX', 'O'),\n",
       " ('ให้บริการ', 'VV', 'O'),\n",
       " ('ของ', 'PS', 'O'),\n",
       " ('รถยนต์', 'NN', 'O'),\n",
       " ('รับจ้าง', 'NN', 'O'),\n",
       " (' ', 'PU', 'O'),\n",
       " ('(', 'PU', 'O'),\n",
       " ('รถแท็กซี่', 'NN', 'O'),\n",
       " (')', 'PU', 'O'),\n",
       " (' ', 'PU', 'O'),\n",
       " ('มี', 'VV', 'O'),\n",
       " ('คุณภาพ', 'NN', 'O'),\n",
       " ('มากขึ้น', 'VV', 'O')]"
      ]
     },
     "execution_count": 20,
     "metadata": {},
     "output_type": "execute_result"
    }
   ],
   "source": [
    "from pythainlp.tag import NER\n",
    "ner = NER(\"thainer\",\"thainer\")\n",
    "# b = ner.tag(a)\n",
    "c = \"4.1 การให้บริการของรถยนต์รับจ้าง (รถแท็กซี่) มีคุณภาพมากขึ้น\"\n",
    "ner.tag(c)"
   ]
  },
  {
   "cell_type": "code",
   "execution_count": null,
   "metadata": {},
   "outputs": [
    {
     "data": {
      "text/plain": [
       "'ผู้เข้าร่วมเดินทางไปที่<LOCATION>มหาวิทยาลัยธรรมศาสตร์</LOCATION>'"
      ]
     },
     "execution_count": 20,
     "metadata": {},
     "output_type": "execute_result"
    }
   ],
   "source": [
    "ner.tag(\"ผู้เข้าร่วมเดินทางไปที่มหาวิทยาลัยธรรมศาสตร์\",tag=True)"
   ]
  },
  {
   "cell_type": "code",
   "execution_count": null,
   "metadata": {},
   "outputs": [
    {
     "data": {
      "text/plain": [
       "[('หลักสูตร', 'NOUN'),\n",
       " ('วิศวกรรม', 'NOUN'),\n",
       " ('วัสดุ', 'PROPN'),\n",
       " ('และ', 'CCONJ'),\n",
       " ('โลห', 'PROPN'),\n",
       " ('การ', 'NOUN'),\n",
       " ('ได้รับ', 'AUX'),\n",
       " ('การปรับปรุง', 'VERB'),\n",
       " ('ให้', 'VERB'),\n",
       " ('ทันสมัย', 'NOUN'),\n",
       " ('และ', 'CCONJ'),\n",
       " ('ตรง', 'VERB'),\n",
       " ('ตาม', 'ADP'),\n",
       " ('ความต้องการ', 'VERB'),\n",
       " ('ของ', 'ADP'),\n",
       " ('สถานประกอบการ', 'NOUN'),\n",
       " ('และ', 'CCONJ'),\n",
       " ('สอดคล้อง', 'VERB'),\n",
       " ('กับ', 'ADP'),\n",
       " ('อัตลักษณ์', 'NOUN'),\n",
       " ('บัณฑิต', 'NOUN'),\n",
       " ('ของ', 'ADP'),\n",
       " ('คณะวิศวกรรมศาสตร์', 'NOUN'),\n",
       " (' ', 'PROPN'),\n",
       " ('และ', 'CCONJ'),\n",
       " (' ', 'PROPN'),\n",
       " ('ม.', 'PROPN'),\n",
       " ('เทคโนโลยี', 'NOUN'),\n",
       " ('ราชมงคล', 'NOUN'),\n",
       " ('ธัญบุรี', 'NOUN'),\n",
       " (' ', 'NOUN'),\n",
       " ('คือ', 'AUX'),\n",
       " (' ', 'NOUN'),\n",
       " ('บัณฑิต', 'PROPN'),\n",
       " ('นัก', 'NOUN'),\n",
       " ('ปฏิบัติ', 'VERB'),\n",
       " ('มืออาชีพ', 'NOUN')]"
      ]
     },
     "execution_count": 12,
     "metadata": {},
     "output_type": "execute_result"
    }
   ],
   "source": [
    "from pythainlp.tag import pos_tag\n",
    "from pythainlp.tokenize import word_tokenize\n",
    "sent = \"หลักสูตรวิศวกรรมวัสดุและโลหการได้รับการปรับปรุงให้ทันสมัยและตรงตามความต้องการของสถานประกอบการและสอดคล้องกับอัตลักษณ์บัณฑิตของคณะวิศวกรรมศาสตร์ และ ม.เทคโนโลยีราชมงคลธัญบุรี คือ บัณฑิตนักปฏิบัติมืออาชีพ\"\n",
    "words = word_tokenize(sent)\n",
    "# words = ['ฉัน','เกือบ','ตาย','จาก','อุบัติเหตุ','เมื่อเช้า']\n",
    "pos_tag(words,corpus='pud')"
   ]
  },
  {
   "cell_type": "code",
   "execution_count": null,
   "metadata": {},
   "outputs": [
    {
     "name": "stderr",
     "output_type": "stream",
     "text": [
      "c:\\Users\\Computer\\AppData\\Local\\Programs\\Python\\Python38\\lib\\site-packages\\pythainlp\\tag\\perceptron.py:41: UserWarning: \n",
      "    LST20 corpus are free for research and open source only.\n",
      "\n",
      "    If you want to use in Commercial use, please contract NECTEC.\n",
      "\n",
      "    https://www.facebook.com/dancearmy/posts/10157641945708284\n",
      "    \n",
      "  warnings.warn(\"\"\"\n"
     ]
    },
    {
     "data": {
      "text/plain": [
       "[('หลักสูตร', 'NOUN'),\n",
       " ('วิศวกรรม', 'NOUN'),\n",
       " ('วัสดุ', 'NOUN'),\n",
       " ('และ', 'CCONJ'),\n",
       " ('โลห', 'NOUN'),\n",
       " ('การ', 'NOUN'),\n",
       " ('ได้รับ', 'VERB'),\n",
       " ('การปรับปรุง', 'NOUN'),\n",
       " ('ให้', 'CCONJ'),\n",
       " ('ทันสมัย', 'NOUN'),\n",
       " ('และ', 'CCONJ'),\n",
       " ('ตรง', 'VERB'),\n",
       " ('ตาม', 'ADP'),\n",
       " ('ความต้องการ', 'NOUN'),\n",
       " ('ของ', 'ADP'),\n",
       " ('สถานประกอบการ', 'NOUN'),\n",
       " ('และ', 'CCONJ'),\n",
       " ('สอดคล้อง', 'VERB'),\n",
       " ('กับ', 'ADP'),\n",
       " ('อัตลักษณ์', 'NOUN'),\n",
       " ('บัณฑิต', 'NOUN'),\n",
       " ('ของ', 'ADP'),\n",
       " ('คณะวิศวกรรมศาสตร์', 'NOUN'),\n",
       " (' ', 'PUNCT'),\n",
       " ('และ', 'CCONJ'),\n",
       " (' ', 'PUNCT'),\n",
       " ('ม.', 'NOUN'),\n",
       " ('เทคโนโลยี', 'NOUN'),\n",
       " ('ราชมงคล', 'NOUN'),\n",
       " ('ธัญบุรี', 'NOUN'),\n",
       " (' ', 'PUNCT'),\n",
       " ('คือ', 'VERB'),\n",
       " (' ', 'PUNCT'),\n",
       " ('บัณฑิต', 'NOUN'),\n",
       " ('นัก', 'NOUN'),\n",
       " ('ปฏิบัติ', 'VERB'),\n",
       " ('มืออาชีพ', 'NOUN')]"
      ]
     },
     "execution_count": 13,
     "metadata": {},
     "output_type": "execute_result"
    }
   ],
   "source": [
    "pos_tag(words,engine= \"perceptron\",corpus='lst20_ud')"
   ]
  },
  {
   "cell_type": "code",
   "execution_count": null,
   "metadata": {},
   "outputs": [
    {
     "ename": "SyntaxError",
     "evalue": "'break' outside loop (Temp/ipykernel_20016/668683560.py, line 1)",
     "output_type": "error",
     "traceback": [
      "\u001b[1;36m  File \u001b[1;32m\"C:\\Users\\Computer\\AppData\\Local\\Temp/ipykernel_20016/668683560.py\"\u001b[1;36m, line \u001b[1;32m1\u001b[0m\n\u001b[1;33m    break\u001b[0m\n\u001b[1;37m    ^\u001b[0m\n\u001b[1;31mSyntaxError\u001b[0m\u001b[1;31m:\u001b[0m 'break' outside loop\n"
     ]
    }
   ],
   "source": [
    "break"
   ]
  },
  {
   "cell_type": "code",
   "execution_count": null,
   "metadata": {},
   "outputs": [],
   "source": [
    "from pythainlp.wangchanberta import ThaiNameTagger, pos_tag\n",
    "# t = ThaiNameTagger(dataset_name=\"thainer\",grouped_entities=False)\n",
    "# p = pos_tag(\"ประชาชนมีความมั่นใจในการใช้บริการรถโดยสารไม่ประจำทางมากขึ้น\",grouped_word=True)"
   ]
  },
  {
   "cell_type": "code",
   "execution_count": null,
   "metadata": {},
   "outputs": [
    {
     "data": {
      "text/plain": [
       "[('หลักสูตรวิศวกรรมวัสดุและโลหการ', 'NN'),\n",
       " ('ได้รับการ', 'FX'),\n",
       " ('ปรับปรุง', 'VV'),\n",
       " ('ให้', 'CC'),\n",
       " ('ทันสมัยและตรงตาม', 'VV'),\n",
       " ('ความต้องการของสถานประกอบการ', 'NN'),\n",
       " ('และสอดคล้อง', 'VV'),\n",
       " ('กับ', 'PS'),\n",
       " ('อัตลักษณ์บัณฑิตของคณะวิศวกรรมศาสตร์', 'NN'),\n",
       " (' ', 'PS'),\n",
       " ('และ', 'CC'),\n",
       " ('  ม.เทคโนโลยีราชมงคลธัญบุรี', 'NN'),\n",
       " ('  คือ', 'VV'),\n",
       " ('  บัณฑิตนักปฏิบัติมืออาชีพ', 'NN')]"
      ]
     },
     "execution_count": 65,
     "metadata": {},
     "output_type": "execute_result"
    }
   ],
   "source": [
    "p = pos_tag(sent,grouped_word=True)\n",
    "p"
   ]
  },
  {
   "cell_type": "code",
   "execution_count": null,
   "metadata": {},
   "outputs": [
    {
     "name": "stdout",
     "output_type": "stream",
     "text": [
      "[('ดําเนินการ', 'VV'), ('จริง', 'VV'), ('สูงกว่า', 'VV')]\n"
     ]
    }
   ],
   "source": [
    "v = \"ดําเนินการจริงสูงกว่า\"\n",
    "g = pos_tag(v,grouped_word=False)\n",
    "print(g)\n",
    "from pythainlp.corpus.wordnet import synsets"
   ]
  },
  {
   "cell_type": "code",
   "execution_count": null,
   "metadata": {},
   "outputs": [
    {
     "name": "stderr",
     "output_type": "stream",
     "text": [
      "[nltk_data] Downloading package omw to\n",
      "[nltk_data]     C:\\Users\\Computer\\AppData\\Roaming\\nltk_data...\n",
      "[nltk_data]   Package omw is already up-to-date!\n",
      "[nltk_data] Downloading package wordnet to\n",
      "[nltk_data]     C:\\Users\\Computer\\AppData\\Roaming\\nltk_data...\n",
      "[nltk_data]   Package wordnet is already up-to-date!\n"
     ]
    }
   ],
   "source": [
    "import nltk\n",
    "from pythainlp.corpus.wordnet import synsets\n",
    "# nltk.download('omw-1.4')\n",
    "# synsets(\"ทำงาน\")"
   ]
  },
  {
   "cell_type": "code",
   "execution_count": null,
   "metadata": {},
   "outputs": [
    {
     "data": {
      "text/plain": [
       "[Synset('take_off.v.02'),\n",
       " Synset('eat.v.02'),\n",
       " Synset('eat.v.01'),\n",
       " Synset('drink.v.01'),\n",
       " Synset('drink.v.02'),\n",
       " Synset('feed.v.06'),\n",
       " Synset('take_up.v.04'),\n",
       " Synset('cover.v.03')]"
      ]
     },
     "execution_count": 36,
     "metadata": {},
     "output_type": "execute_result"
    }
   ],
   "source": [
    "synsets(\"กิน\")"
   ]
  },
  {
   "cell_type": "code",
   "execution_count": null,
   "metadata": {},
   "outputs": [
    {
     "data": {
      "text/plain": [
       "[('อัตรา', 'O'),\n",
       " ('ค่าใช้จ่าย', 'O'),\n",
       " ('ในการ', 'O'),\n",
       " ('ดําเนินการ', 'O'),\n",
       " ('จริง', 'O'),\n",
       " ('สูงกว่า', 'O'),\n",
       " ('อัตรา', 'O'),\n",
       " ('ค่าใช้จ่าย', 'O'),\n",
       " ('ที่ได้รับ', 'O'),\n",
       " ('จัดสรร', 'O')]"
      ]
     },
     "execution_count": 69,
     "metadata": {},
     "output_type": "execute_result"
    }
   ],
   "source": [
    "b = t.get_ner(a,tag = False)\n",
    "b"
   ]
  },
  {
   "cell_type": "code",
   "execution_count": null,
   "metadata": {},
   "outputs": [
    {
     "data": {
      "text/plain": [
       "('โครงการแลกเปลี่ยนเรียนรู้งานภูมิทัศน์',\n",
       " 'objective_end',\n",
       " 'ความรู้และประสบการณ์ทำงาน')"
      ]
     },
     "execution_count": 70,
     "metadata": {},
     "output_type": "execute_result"
    }
   ],
   "source": [
    "\n",
    "('ผู้เข้าร่วม', 'ได้รับ', 'ความรู้และประสบการณ์ทำงาน'),\n",
    "('โครงการแลกเปลี่ยนเรียนรู้งานภูมิทัศน์', 'objective_start', 'ผู้เข้าร่วม'),\n",
    "('โครงการแลกเปลี่ยนเรียนรู้งานภูมิทัศน์',\n",
    "  'objective_end',\n",
    "  'ความรู้และประสบการณ์ทำงาน')"
   ]
  },
  {
   "cell_type": "code",
   "execution_count": null,
   "metadata": {},
   "outputs": [
    {
     "name": "stdout",
     "output_type": "stream",
     "text": [
      "[('ต่ำ', 0.8239901065826416), ('ที่สูง', 0.813772976398468), ('ที่ต่ำ', 0.7317917943000793), ('สูงสุด', 0.704181969165802), ('ต่ำกว่า', 0.7024301290512085), ('เตี้ย', 0.7008340954780579), ('ลดลง', 0.7004044651985168), ('ระดับสูง', 0.688912570476532), ('น้อยลง', 0.6888272166252136), ('ต่ำสุด', 0.6821328997612)]\n"
     ]
    }
   ],
   "source": [
    "from pythainlp.word_vector import WordVector\n",
    "wv = WordVector()\n",
    "list_positive = ['สูง']\n",
    "list_negative = []\n",
    "test = wv.most_similar_cosmul(list_positive, list_negative)\n",
    "print(test)"
   ]
  },
  {
   "cell_type": "code",
   "execution_count": null,
   "metadata": {},
   "outputs": [],
   "source": [
    "temp = []\n",
    "for i in b:\n",
    "    if i[0] == type(int) or i[1] == \"NN\" or i[1] == \"VV\":\n",
    "        temp.append(i)\n",
    "    # if i[0] == \"\\n\":\n",
    "    #     break"
   ]
  },
  {
   "cell_type": "code",
   "execution_count": null,
   "metadata": {},
   "outputs": [],
   "source": [
    "# print(temp)\n",
    "triple1 = [(\"ผู้ประกอบการ\",\"ความร่วมมือ\",\"พนักงาน\"),(\"การขนส่ง\",\"มี\",\"คุณภาพ\"),(\"ประชาชน\",\"ความมั่นใจ\",\"รถโดยสาร\")]\n",
    "triple2 = [(\"บัณฑิตผู้สำเร็จการศึกษา\",\"มี\",\"ความรู้\"),(\"บัณฑิตผู้สำเร็จการศึกษา\",\"มี\",\"ทักษะ\")]\n",
    "triple3 = [(\"รถแท็กซี่\",\"มี\",\"คุณภาพ\"),(\"ประชาชน\",\"พึงพอใจ\",\"รถแท็กซี่\")]\n",
    "triple4 = [(\"หลักสูตร\",\"ได้รับการปรับปรุง\",\"ตามสถานประกอบการ\")]\n",
    "triple5 = [(\"ผู้เข้าร่วม\",\"ได้รับ\",\"ความรู้และประสบการณ์ทำงาน\")]"
   ]
  },
  {
   "cell_type": "code",
   "execution_count": null,
   "metadata": {},
   "outputs": [],
   "source": [
    "total = triple1 + triple2 + triple3 + triple4 + triple5"
   ]
  },
  {
   "cell_type": "code",
   "execution_count": null,
   "metadata": {},
   "outputs": [],
   "source": [
    "combine = []\n",
    "for i in total:\n",
    "    combine.append(i)"
   ]
  },
  {
   "cell_type": "code",
   "execution_count": null,
   "metadata": {},
   "outputs": [
    {
     "data": {
      "text/plain": [
       "[('ผู้ประกอบการ', 'ความร่วมมือ', 'พนักงาน'),\n",
       " ('การขนส่ง', 'มี', 'คุณภาพ'),\n",
       " ('ประชาชน', 'ความมั่นใจ', 'รถโดยสาร'),\n",
       " ('บัณฑิตผู้สำเร็จการศึกษา', 'มี', 'ความรู้'),\n",
       " ('บัณฑิตผู้สำเร็จการศึกษา', 'มี', 'ทักษะ'),\n",
       " ('รถแท็กซี่', 'มี', 'คุณภาพ'),\n",
       " ('ประชาชน', 'พึงพอใจ', 'รถแท็กซี่'),\n",
       " ('หลักสูตร', 'ได้รับการปรับปรุง', 'ตามสถานประกอบการ'),\n",
       " ('ผู้เข้าร่วม', 'ได้รับ', 'ความรู้และประสบการณ์ทำงาน')]"
      ]
     },
     "execution_count": 76,
     "metadata": {},
     "output_type": "execute_result"
    }
   ],
   "source": [
    "combine"
   ]
  },
  {
   "cell_type": "code",
   "execution_count": null,
   "metadata": {},
   "outputs": [],
   "source": [
    "# # temp\n",
    "# entity = []\n",
    "# relation = []\n",
    "# max_e = 0\n",
    "# max_r = 0\n",
    "# for i in temp:\n",
    "#    if i[0] == \"\\n\":\n",
    "#       max_e = 0\n",
    "#       max_r = 0\n",
    "#    if i[1] == \"VV\" and len(i[0]) > max_r:\n",
    "#       relation.append(i[0])\n",
    "#       max_r = len(i[0])\n",
    "#    if i[1] == \"NN\" and len(i[0]) > max_e:\n",
    "#       entity.append(i[0])\n",
    "#       max_e = len(i[0])\n"
   ]
  },
  {
   "cell_type": "code",
   "execution_count": null,
   "metadata": {},
   "outputs": [],
   "source": [
    "# combine = []\n",
    "num = [0,1,2,5,7]\n",
    "for i in num:\n",
    "    # for j in range(len(obj.keys())):\n",
    "    # if i == 0 or i\n",
    "    combine.append((subj.iloc[i],\"masterplan_direct\",obj[\"masterplan_direct\"].iloc[i][\"y1_goal\"]))"
   ]
  },
  {
   "cell_type": "code",
   "execution_count": null,
   "metadata": {},
   "outputs": [
    {
     "data": {
      "text/plain": [
       "[('ผู้ประกอบการ', 'ความร่วมมือ', 'พนักงาน'),\n",
       " ('การขนส่ง', 'มี', 'คุณภาพ'),\n",
       " ('ประชาชน', 'ความมั่นใจ', 'รถโดยสาร'),\n",
       " ('บัณฑิตผู้สำเร็จการศึกษา', 'มี', 'ความรู้'),\n",
       " ('บัณฑิตผู้สำเร็จการศึกษา', 'มี', 'ทักษะ'),\n",
       " ('รถแท็กซี่', 'มี', 'คุณภาพ'),\n",
       " ('ประชาชน', 'พึงพอใจ', 'รถแท็กซี่'),\n",
       " ('หลักสูตร', 'ได้รับการปรับปรุง', 'ตามสถานประกอบการ'),\n",
       " ('ผู้เข้าร่วม', 'ได้รับ', 'ความรู้และประสบการณ์ทำงาน'),\n",
       " ('โครงการพัฒนาศักยภาพผู้ประกอบการขนส่งไม่ประจำทางด้วยรถโดยสาร ปี 2563',\n",
       "  'masterplan_direct',\n",
       "  '070104'),\n",
       " ('โครงการผลิตบัณฑิตด้านวิทยาศาสตร์และเทคโนโลยีเพื่อรองรับความต้องการของสังคม ตลาดแรงงาน และสถานประกอบการ',\n",
       "  'masterplan_direct',\n",
       "  '120101'),\n",
       " ('โครงการพัฒนาศักยภาพผู้ประกอบการรถรับจ้าง (รถแท็กซี่) ปี 2563',\n",
       "  'masterplan_direct',\n",
       "  '070104'),\n",
       " ('โครงการพัฒนาหลักสูตรสาขาวิศวกรรมวัสดุเพื่อก้าวสู่ยุคอุตสาหกรรม 4.0',\n",
       "  'masterplan_direct',\n",
       "  '120101'),\n",
       " ('โครงการแลกเปลี่ยนเรียนรู้งานภูมิทัศน์', 'masterplan_direct', '110101')]"
      ]
     },
     "execution_count": 79,
     "metadata": {},
     "output_type": "execute_result"
    }
   ],
   "source": [
    "combine"
   ]
  },
  {
   "cell_type": "code",
   "execution_count": null,
   "metadata": {},
   "outputs": [],
   "source": [
    "for i in triple1:\n",
    "    combine.append((subj.iloc[0],\"objective_start\",i[0]))\n",
    "    combine.append((subj.iloc[0],\"objective_end\",i[2]))"
   ]
  },
  {
   "cell_type": "code",
   "execution_count": null,
   "metadata": {},
   "outputs": [],
   "source": [
    "for i in triple2:\n",
    "    combine.append((subj.iloc[1],\"objective_start\",i[0]))\n",
    "    combine.append((subj.iloc[1],\"objective_end\",i[2]))\n",
    "for i in triple3:\n",
    "    combine.append((subj.iloc[2],\"objective_start\",i[0]))\n",
    "    combine.append((subj.iloc[2],\"objective_end\",i[2]))\n",
    "for i in triple4:\n",
    "    combine.append((subj.iloc[5],\"objective_start\",i[0]))\n",
    "    combine.append((subj.iloc[5],\"objective_end\",i[2]))\n",
    "for i in triple5:\n",
    "    combine.append((subj.iloc[7],\"objective_start\",i[0]))\n",
    "    combine.append((subj.iloc[7],\"objective_end\",i[2]))"
   ]
  },
  {
   "cell_type": "code",
   "execution_count": null,
   "metadata": {},
   "outputs": [
    {
     "data": {
      "text/plain": [
       "[('ผู้ประกอบการ', 'ความร่วมมือ', 'พนักงาน'),\n",
       " ('การขนส่ง', 'มี', 'คุณภาพ'),\n",
       " ('ประชาชน', 'ความมั่นใจ', 'รถโดยสาร'),\n",
       " ('บัณฑิตผู้สำเร็จการศึกษา', 'มี', 'ความรู้'),\n",
       " ('บัณฑิตผู้สำเร็จการศึกษา', 'มี', 'ทักษะ'),\n",
       " ('รถแท็กซี่', 'มี', 'คุณภาพ'),\n",
       " ('ประชาชน', 'พึงพอใจ', 'รถแท็กซี่'),\n",
       " ('หลักสูตร', 'ได้รับการปรับปรุง', 'ตามสถานประกอบการ'),\n",
       " ('ผู้เข้าร่วม', 'ได้รับ', 'ความรู้และประสบการณ์ทำงาน'),\n",
       " ('โครงการพัฒนาศักยภาพผู้ประกอบการขนส่งไม่ประจำทางด้วยรถโดยสาร ปี 2563',\n",
       "  'masterplan_direct',\n",
       "  '070104'),\n",
       " ('โครงการผลิตบัณฑิตด้านวิทยาศาสตร์และเทคโนโลยีเพื่อรองรับความต้องการของสังคม ตลาดแรงงาน และสถานประกอบการ',\n",
       "  'masterplan_direct',\n",
       "  '120101'),\n",
       " ('โครงการพัฒนาศักยภาพผู้ประกอบการรถรับจ้าง (รถแท็กซี่) ปี 2563',\n",
       "  'masterplan_direct',\n",
       "  '070104'),\n",
       " ('โครงการพัฒนาหลักสูตรสาขาวิศวกรรมวัสดุเพื่อก้าวสู่ยุคอุตสาหกรรม 4.0',\n",
       "  'masterplan_direct',\n",
       "  '120101'),\n",
       " ('โครงการแลกเปลี่ยนเรียนรู้งานภูมิทัศน์', 'masterplan_direct', '110101'),\n",
       " ('โครงการพัฒนาศักยภาพผู้ประกอบการขนส่งไม่ประจำทางด้วยรถโดยสาร ปี 2563',\n",
       "  'objective_start',\n",
       "  'ผู้ประกอบการ'),\n",
       " ('โครงการพัฒนาศักยภาพผู้ประกอบการขนส่งไม่ประจำทางด้วยรถโดยสาร ปี 2563',\n",
       "  'objective_end',\n",
       "  'พนักงาน'),\n",
       " ('โครงการพัฒนาศักยภาพผู้ประกอบการขนส่งไม่ประจำทางด้วยรถโดยสาร ปี 2563',\n",
       "  'objective_start',\n",
       "  'การขนส่ง'),\n",
       " ('โครงการพัฒนาศักยภาพผู้ประกอบการขนส่งไม่ประจำทางด้วยรถโดยสาร ปี 2563',\n",
       "  'objective_end',\n",
       "  'คุณภาพ'),\n",
       " ('โครงการพัฒนาศักยภาพผู้ประกอบการขนส่งไม่ประจำทางด้วยรถโดยสาร ปี 2563',\n",
       "  'objective_start',\n",
       "  'ประชาชน'),\n",
       " ('โครงการพัฒนาศักยภาพผู้ประกอบการขนส่งไม่ประจำทางด้วยรถโดยสาร ปี 2563',\n",
       "  'objective_end',\n",
       "  'รถโดยสาร'),\n",
       " ('โครงการผลิตบัณฑิตด้านวิทยาศาสตร์และเทคโนโลยีเพื่อรองรับความต้องการของสังคม ตลาดแรงงาน และสถานประกอบการ',\n",
       "  'objective_start',\n",
       "  'บัณฑิตผู้สำเร็จการศึกษา'),\n",
       " ('โครงการผลิตบัณฑิตด้านวิทยาศาสตร์และเทคโนโลยีเพื่อรองรับความต้องการของสังคม ตลาดแรงงาน และสถานประกอบการ',\n",
       "  'objective_end',\n",
       "  'ความรู้'),\n",
       " ('โครงการผลิตบัณฑิตด้านวิทยาศาสตร์และเทคโนโลยีเพื่อรองรับความต้องการของสังคม ตลาดแรงงาน และสถานประกอบการ',\n",
       "  'objective_start',\n",
       "  'บัณฑิตผู้สำเร็จการศึกษา'),\n",
       " ('โครงการผลิตบัณฑิตด้านวิทยาศาสตร์และเทคโนโลยีเพื่อรองรับความต้องการของสังคม ตลาดแรงงาน และสถานประกอบการ',\n",
       "  'objective_end',\n",
       "  'ทักษะ'),\n",
       " ('โครงการพัฒนาศักยภาพผู้ประกอบการรถรับจ้าง (รถแท็กซี่) ปี 2563',\n",
       "  'objective_start',\n",
       "  'รถแท็กซี่'),\n",
       " ('โครงการพัฒนาศักยภาพผู้ประกอบการรถรับจ้าง (รถแท็กซี่) ปี 2563',\n",
       "  'objective_end',\n",
       "  'คุณภาพ'),\n",
       " ('โครงการพัฒนาศักยภาพผู้ประกอบการรถรับจ้าง (รถแท็กซี่) ปี 2563',\n",
       "  'objective_start',\n",
       "  'ประชาชน'),\n",
       " ('โครงการพัฒนาศักยภาพผู้ประกอบการรถรับจ้าง (รถแท็กซี่) ปี 2563',\n",
       "  'objective_end',\n",
       "  'รถแท็กซี่'),\n",
       " ('โครงการพัฒนาหลักสูตรสาขาวิศวกรรมวัสดุเพื่อก้าวสู่ยุคอุตสาหกรรม 4.0',\n",
       "  'objective_start',\n",
       "  'หลักสูตร'),\n",
       " ('โครงการพัฒนาหลักสูตรสาขาวิศวกรรมวัสดุเพื่อก้าวสู่ยุคอุตสาหกรรม 4.0',\n",
       "  'objective_end',\n",
       "  'ตามสถานประกอบการ'),\n",
       " ('โครงการแลกเปลี่ยนเรียนรู้งานภูมิทัศน์', 'objective_start', 'ผู้เข้าร่วม'),\n",
       " ('โครงการแลกเปลี่ยนเรียนรู้งานภูมิทัศน์',\n",
       "  'objective_end',\n",
       "  'ความรู้และประสบการณ์ทำงาน')]"
      ]
     },
     "execution_count": 82,
     "metadata": {},
     "output_type": "execute_result"
    }
   ],
   "source": [
    "combine"
   ]
  },
  {
   "cell_type": "code",
   "execution_count": null,
   "metadata": {},
   "outputs": [],
   "source": [
    "new_df = pd.DataFrame(combine, columns= [\"source\",\"relations\",\"target\"])"
   ]
  },
  {
   "cell_type": "code",
   "execution_count": null,
   "metadata": {},
   "outputs": [],
   "source": [
    "new_df\n",
    "new_df.to_csv('triple_sample.csv')"
   ]
  }
 ],
 "metadata": {
  "kernelspec": {
   "display_name": "Python 3",
   "language": "python",
   "name": "python3"
  },
  "language_info": {
   "codemirror_mode": {
    "name": "ipython",
    "version": 3
   },
   "file_extension": ".py",
   "mimetype": "text/x-python",
   "name": "python",
   "nbconvert_exporter": "python",
   "pygments_lexer": "ipython3",
   "version": "3.8.10"
  },
  "orig_nbformat": 4,
  "vscode": {
   "interpreter": {
    "hash": "b62b8fb19f50b74e3f211448ff042e62b38aedfddd57d42671e463b71beedf8e"
   }
  }
 },
 "nbformat": 4,
 "nbformat_minor": 2
}
